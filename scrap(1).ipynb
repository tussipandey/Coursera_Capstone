{
 "cells": [
  {
   "cell_type": "code",
   "execution_count": 2,
   "metadata": {},
   "outputs": [],
   "source": [
    "import numpy as np\n",
    "import pandas as pd\n",
    "import urllib"
   ]
  },
  {
   "cell_type": "markdown",
   "metadata": {},
   "source": [
    "Scrap neighbourhood info from wikipedia"
   ]
  },
  {
   "cell_type": "code",
   "execution_count": 3,
   "metadata": {},
   "outputs": [],
   "source": [
    "con=urllib.request.urlopen(\"https://en.wikipedia.org/wiki/List_of_postal_codes_of_Canada:_M\")\n",
    "page=con.read()\n",
    "content=page.decode(\"UTF-8\")"
   ]
  },
  {
   "cell_type": "markdown",
   "metadata": {},
   "source": [
    "The page only contains tables so we can extract its data by using table tags"
   ]
  },
  {
   "cell_type": "code",
   "execution_count": 4,
   "metadata": {},
   "outputs": [],
   "source": [
    "table = content[content.find(\"<table\"):content.find(\"</table>\")+8]"
   ]
  },
  {
   "cell_type": "code",
   "execution_count": 5,
   "metadata": {},
   "outputs": [],
   "source": [
    "data=pd.read_html(table,header=0)[0]"
   ]
  },
  {
   "cell_type": "markdown",
   "metadata": {},
   "source": [
    "Beautiful Soup not used here "
   ]
  },
  {
   "cell_type": "markdown",
   "metadata": {},
   "source": [
    "we have to select only those boroughs that have an assigned name and assign borough name to the neighbourhood"
   ]
  },
  {
   "cell_type": "code",
   "execution_count": 6,
   "metadata": {},
   "outputs": [
    {
     "data": {
      "text/html": [
       "<div>\n",
       "<style scoped>\n",
       "    .dataframe tbody tr th:only-of-type {\n",
       "        vertical-align: middle;\n",
       "    }\n",
       "\n",
       "    .dataframe tbody tr th {\n",
       "        vertical-align: top;\n",
       "    }\n",
       "\n",
       "    .dataframe thead th {\n",
       "        text-align: right;\n",
       "    }\n",
       "</style>\n",
       "<table border=\"1\" class=\"dataframe\">\n",
       "  <thead>\n",
       "    <tr style=\"text-align: right;\">\n",
       "      <th></th>\n",
       "      <th>Postcode</th>\n",
       "      <th>Borough</th>\n",
       "      <th>Neighbourhood</th>\n",
       "    </tr>\n",
       "  </thead>\n",
       "  <tbody>\n",
       "    <tr>\n",
       "      <th>2</th>\n",
       "      <td>M3A</td>\n",
       "      <td>North York</td>\n",
       "      <td>Parkwoods</td>\n",
       "    </tr>\n",
       "    <tr>\n",
       "      <th>3</th>\n",
       "      <td>M4A</td>\n",
       "      <td>North York</td>\n",
       "      <td>Victoria Village</td>\n",
       "    </tr>\n",
       "    <tr>\n",
       "      <th>4</th>\n",
       "      <td>M5A</td>\n",
       "      <td>Downtown Toronto</td>\n",
       "      <td>Harbourfront</td>\n",
       "    </tr>\n",
       "    <tr>\n",
       "      <th>5</th>\n",
       "      <td>M5A</td>\n",
       "      <td>Downtown Toronto</td>\n",
       "      <td>Regent Park</td>\n",
       "    </tr>\n",
       "    <tr>\n",
       "      <th>6</th>\n",
       "      <td>M6A</td>\n",
       "      <td>North York</td>\n",
       "      <td>Lawrence Heights</td>\n",
       "    </tr>\n",
       "  </tbody>\n",
       "</table>\n",
       "</div>"
      ],
      "text/plain": [
       "  Postcode           Borough     Neighbourhood\n",
       "2      M3A        North York         Parkwoods\n",
       "3      M4A        North York  Victoria Village\n",
       "4      M5A  Downtown Toronto      Harbourfront\n",
       "5      M5A  Downtown Toronto       Regent Park\n",
       "6      M6A        North York  Lawrence Heights"
      ]
     },
     "execution_count": 6,
     "metadata": {},
     "output_type": "execute_result"
    }
   ],
   "source": [
    "data = data[data.Borough != \"Not assigned\"]\n",
    "data.Neighbourhood[data.Neighbourhood == \"Not assigned\"] = data.Borough[data.Neighbourhood == \"Not assigned\"]\n",
    "data.head()"
   ]
  },
  {
   "cell_type": "markdown",
   "metadata": {},
   "source": [
    "Now we will define a function that takes a series of names and combines them with commas between them"
   ]
  },
  {
   "cell_type": "code",
   "execution_count": 7,
   "metadata": {},
   "outputs": [],
   "source": [
    "def concatenate_neighbourhood(x):\n",
    "    cadena = \"\"\n",
    "    for i in range(len(x)-1):\n",
    "        cadena = cadena + x.iloc[i] + \", \"\n",
    "    cadena += x.iloc[-1]\n",
    "    return cadena"
   ]
  },
  {
   "cell_type": "markdown",
   "metadata": {},
   "source": [
    "We will also have a function that checks the postal code is completely contained within the  borough. "
   ]
  },
  {
   "cell_type": "code",
   "execution_count": 8,
   "metadata": {},
   "outputs": [],
   "source": [
    "\n",
    "def select_Borough(x):\n",
    "    ref = x.iloc[0]\n",
    "    for i in range(1, len(x)):\n",
    "        if ref != x.iloc[i]:\n",
    "            for i in x:\n",
    "                print(x)\n",
    "            raise Exception(\"Postcode comprises two Boroughs\")\n",
    "    return ref"
   ]
  },
  {
   "cell_type": "code",
   "execution_count": 9,
   "metadata": {},
   "outputs": [
    {
     "data": {
      "text/html": [
       "<div>\n",
       "<style scoped>\n",
       "    .dataframe tbody tr th:only-of-type {\n",
       "        vertical-align: middle;\n",
       "    }\n",
       "\n",
       "    .dataframe tbody tr th {\n",
       "        vertical-align: top;\n",
       "    }\n",
       "\n",
       "    .dataframe thead th {\n",
       "        text-align: right;\n",
       "    }\n",
       "</style>\n",
       "<table border=\"1\" class=\"dataframe\">\n",
       "  <thead>\n",
       "    <tr style=\"text-align: right;\">\n",
       "      <th></th>\n",
       "      <th>Borough</th>\n",
       "      <th>Neighbourhood</th>\n",
       "    </tr>\n",
       "    <tr>\n",
       "      <th>Postcode</th>\n",
       "      <th></th>\n",
       "      <th></th>\n",
       "    </tr>\n",
       "  </thead>\n",
       "  <tbody>\n",
       "    <tr>\n",
       "      <th>M1B</th>\n",
       "      <td>Scarborough</td>\n",
       "      <td>Rouge, Malvern</td>\n",
       "    </tr>\n",
       "    <tr>\n",
       "      <th>M1C</th>\n",
       "      <td>Scarborough</td>\n",
       "      <td>Highland Creek, Rouge Hill, Port Union</td>\n",
       "    </tr>\n",
       "    <tr>\n",
       "      <th>M1E</th>\n",
       "      <td>Scarborough</td>\n",
       "      <td>Guildwood, Morningside, West Hill</td>\n",
       "    </tr>\n",
       "    <tr>\n",
       "      <th>M1G</th>\n",
       "      <td>Scarborough</td>\n",
       "      <td>Woburn</td>\n",
       "    </tr>\n",
       "    <tr>\n",
       "      <th>M1H</th>\n",
       "      <td>Scarborough</td>\n",
       "      <td>Cedarbrae</td>\n",
       "    </tr>\n",
       "    <tr>\n",
       "      <th>M1J</th>\n",
       "      <td>Scarborough</td>\n",
       "      <td>Scarborough Village</td>\n",
       "    </tr>\n",
       "    <tr>\n",
       "      <th>M1K</th>\n",
       "      <td>Scarborough</td>\n",
       "      <td>East Birchmount Park, Ionview, Kennedy Park</td>\n",
       "    </tr>\n",
       "    <tr>\n",
       "      <th>M1L</th>\n",
       "      <td>Scarborough</td>\n",
       "      <td>Clairlea, Golden Mile, Oakridge</td>\n",
       "    </tr>\n",
       "    <tr>\n",
       "      <th>M1M</th>\n",
       "      <td>Scarborough</td>\n",
       "      <td>Cliffcrest, Cliffside, Scarborough Village West</td>\n",
       "    </tr>\n",
       "    <tr>\n",
       "      <th>M1N</th>\n",
       "      <td>Scarborough</td>\n",
       "      <td>Birch Cliff, Cliffside West</td>\n",
       "    </tr>\n",
       "    <tr>\n",
       "      <th>M1P</th>\n",
       "      <td>Scarborough</td>\n",
       "      <td>Dorset Park, Scarborough Town Centre, Wexford ...</td>\n",
       "    </tr>\n",
       "  </tbody>\n",
       "</table>\n",
       "</div>"
      ],
      "text/plain": [
       "              Borough                                      Neighbourhood\n",
       "Postcode                                                                \n",
       "M1B       Scarborough                                     Rouge, Malvern\n",
       "M1C       Scarborough             Highland Creek, Rouge Hill, Port Union\n",
       "M1E       Scarborough                  Guildwood, Morningside, West Hill\n",
       "M1G       Scarborough                                             Woburn\n",
       "M1H       Scarborough                                          Cedarbrae\n",
       "M1J       Scarborough                                Scarborough Village\n",
       "M1K       Scarborough        East Birchmount Park, Ionview, Kennedy Park\n",
       "M1L       Scarborough                    Clairlea, Golden Mile, Oakridge\n",
       "M1M       Scarborough    Cliffcrest, Cliffside, Scarborough Village West\n",
       "M1N       Scarborough                        Birch Cliff, Cliffside West\n",
       "M1P       Scarborough  Dorset Park, Scarborough Town Centre, Wexford ..."
      ]
     },
     "execution_count": 9,
     "metadata": {},
     "output_type": "execute_result"
    }
   ],
   "source": [
    "pdata = data.groupby([\"Postcode\"]).agg({\"Borough\": lambda x: select_Borough(x),\n",
    "                                 \"Neighbourhood\": lambda x: concatenate_neighbourhood(x)})\n",
    "pdata.head(11)"
   ]
  },
  {
   "cell_type": "code",
   "execution_count": 12,
   "metadata": {},
   "outputs": [
    {
     "data": {
      "text/plain": [
       "(103, 2)"
      ]
     },
     "execution_count": 12,
     "metadata": {},
     "output_type": "execute_result"
    }
   ],
   "source": [
    "pdata.shape"
   ]
  },
  {
   "cell_type": "code",
   "execution_count": 13,
   "metadata": {},
   "outputs": [
    {
     "data": {
      "text/plain": [
       "'Borough,Neighbourhood\\nScarborough,\"Rouge, Malvern\"\\nScarborough,\"Highland Creek, Rouge Hill, Port Union\"\\nScarborough,\"Guildwood, Morningside, West Hill\"\\nScarborough,Woburn\\nScarborough,Cedarbrae\\nScarborough,Scarborough Village\\nScarborough,\"East Birchmount Park, Ionview, Kennedy Park\"\\nScarborough,\"Clairlea, Golden Mile, Oakridge\"\\nScarborough,\"Cliffcrest, Cliffside, Scarborough Village West\"\\nScarborough,\"Birch Cliff, Cliffside West\"\\nScarborough,\"Dorset Park, Scarborough Town Centre, Wexford Heights\"\\nScarborough,\"Maryvale, Wexford\"\\nScarborough,Agincourt\\nScarborough,\"Clarks Corners, Sullivan, Tam O\\'Shanter\"\\nScarborough,\"Agincourt North, L\\'Amoreaux East, Milliken, Steeles East\"\\nScarborough,\"L\\'Amoreaux West, Steeles West\"\\nScarborough,Upper Rouge\\nNorth York,Hillcrest Village\\nNorth York,\"Fairview, Henry Farm, Oriole\"\\nNorth York,Bayview Village\\nNorth York,\"Silver Hills, York Mills\"\\nNorth York,\"Newtonbrook, Willowdale\"\\nNorth York,Willowdale South\\nNorth York,York Mills West\\nNorth York,Willowdale West\\nNorth York,Parkwoods\\nNorth York,Don Mills North\\nNorth York,\"Flemingdon Park, Don Mills South\"\\nNorth York,\"Bathurst Manor, Downsview North, Wilson Heights\"\\nNorth York,\"Northwood Park, York University\"\\nNorth York,\"CFB Toronto, Downsview East\"\\nNorth York,Downsview West\\nNorth York,Downsview Central\\nNorth York,Downsview Northwest\\nNorth York,Victoria Village\\nEast York,\"Woodbine Gardens, Parkview Hill\"\\nEast York,Woodbine Heights\\nEast Toronto,The Beaches\\nEast York,Leaside\\nEast York,Thorncliffe Park\\nEast York,East Toronto\\nEast Toronto,\"The Danforth West, Riverdale\"\\nEast Toronto,\"The Beaches West, India Bazaar\"\\nEast Toronto,Studio District\\nCentral Toronto,Lawrence Park\\nCentral Toronto,Davisville North\\nCentral Toronto,North Toronto West\\nCentral Toronto,Davisville\\nCentral Toronto,\"Moore Park, Summerhill East\"\\nCentral Toronto,\"Deer Park, Forest Hill SE, Rathnelly, South Hill, Summerhill West\"\\nDowntown Toronto,Rosedale\\nDowntown Toronto,\"Cabbagetown, St. James Town\"\\nDowntown Toronto,Church and Wellesley\\nDowntown Toronto,\"Harbourfront, Regent Park\"\\nDowntown Toronto,\"Ryerson, Garden District\"\\nDowntown Toronto,St. James Town\\nDowntown Toronto,Berczy Park\\nDowntown Toronto,Central Bay Street\\nDowntown Toronto,\"Adelaide, King, Richmond\"\\nDowntown Toronto,\"Harbourfront East, Toronto Islands, Union Station\"\\nDowntown Toronto,\"Design Exchange, Toronto Dominion Centre\"\\nDowntown Toronto,\"Commerce Court, Victoria Hotel\"\\nNorth York,\"Bedford Park, Lawrence Manor East\"\\nCentral Toronto,Roselawn\\nCentral Toronto,\"Forest Hill North, Forest Hill West\"\\nCentral Toronto,\"The Annex, North Midtown, Yorkville\"\\nDowntown Toronto,\"Harbord, University of Toronto\"\\nDowntown Toronto,\"Chinatown, Grange Park, Kensington Market\"\\nDowntown Toronto,\"CN Tower, Bathurst Quay, Island airport, Harbourfront West, King and Spadina, Railway Lands, South Niagara\"\\nDowntown Toronto,Stn A PO Boxes 25 The Esplanade\\nDowntown Toronto,\"First Canadian Place, Underground city\"\\nNorth York,\"Lawrence Heights, Lawrence Manor\"\\nNorth York,Glencairn\\nYork,Humewood-Cedarvale\\nYork,Caledonia-Fairbanks\\nDowntown Toronto,Christie\\nWest Toronto,\"Dovercourt Village, Dufferin\"\\nWest Toronto,\"Little Portugal, Trinity\"\\nWest Toronto,\"Brockton, Exhibition Place, Parkdale Village\"\\nNorth York,\"Maple Leaf Park, North Park, Upwood Park\"\\nYork,\"Del Ray, Keelesdale, Mount Dennis, Silverthorn\"\\nYork,\"The Junction North, Runnymede\"\\nWest Toronto,\"High Park, The Junction South\"\\nWest Toronto,\"Parkdale, Roncesvalles\"\\nWest Toronto,\"Runnymede, Swansea\"\\nQueen\\'s Park,Queen\\'s Park\\nMississauga,Canada Post Gateway Processing Centre\\nEast Toronto,Business Reply Mail Processing Centre 969 Eastern\\nEtobicoke,\"Humber Bay Shores, Mimico South, New Toronto\"\\nEtobicoke,\"Alderwood, Long Branch\"\\nEtobicoke,\"The Kingsway, Montgomery Road, Old Mill North\"\\nEtobicoke,\"Humber Bay, King\\'s Mill Park, Kingsway Park South East, Mimico NE, Old Mill South, The Queensway East, Royal York South East, Sunnylea\"\\nEtobicoke,\"Kingsway Park South West, Mimico NW, The Queensway West, Royal York South West, South of Bloor\"\\nEtobicoke,Islington Avenue\\nEtobicoke,\"Cloverdale, Islington, Martin Grove, Princess Gardens, West Deane Park\"\\nEtobicoke,\"Bloordale Gardens, Eringate, Markland Wood, Old Burnhamthorpe\"\\nNorth York,Humber Summit\\nNorth York,\"Emery, Humberlea\"\\nYork,Weston\\nEtobicoke,Westmount\\nEtobicoke,\"Kingsview Village, Martin Grove Gardens, Richview Gardens, St. Phillips\"\\nEtobicoke,\"Albion Gardens, Beaumond Heights, Humbergate, Jamestown, Mount Olive, Silverstone, South Steeles, Thistletown\"\\nEtobicoke,Northwest\\n'"
      ]
     },
     "execution_count": 13,
     "metadata": {},
     "output_type": "execute_result"
    }
   ],
   "source": [
    "pdata.to_csv(index=False)"
   ]
  },
  {
   "cell_type": "code",
   "execution_count": 18,
   "metadata": {},
   "outputs": [
    {
     "data": {
      "text/html": [
       "<div>\n",
       "<style scoped>\n",
       "    .dataframe tbody tr th:only-of-type {\n",
       "        vertical-align: middle;\n",
       "    }\n",
       "\n",
       "    .dataframe tbody tr th {\n",
       "        vertical-align: top;\n",
       "    }\n",
       "\n",
       "    .dataframe thead th {\n",
       "        text-align: right;\n",
       "    }\n",
       "</style>\n",
       "<table border=\"1\" class=\"dataframe\">\n",
       "  <thead>\n",
       "    <tr style=\"text-align: right;\">\n",
       "      <th></th>\n",
       "      <th>Borough</th>\n",
       "      <th>Neighbourhood</th>\n",
       "    </tr>\n",
       "    <tr>\n",
       "      <th>Postcode</th>\n",
       "      <th></th>\n",
       "      <th></th>\n",
       "    </tr>\n",
       "  </thead>\n",
       "  <tbody>\n",
       "    <tr>\n",
       "      <th>M1B</th>\n",
       "      <td>Scarborough</td>\n",
       "      <td>Rouge, Malvern</td>\n",
       "    </tr>\n",
       "    <tr>\n",
       "      <th>M1C</th>\n",
       "      <td>Scarborough</td>\n",
       "      <td>Highland Creek, Rouge Hill, Port Union</td>\n",
       "    </tr>\n",
       "    <tr>\n",
       "      <th>M1E</th>\n",
       "      <td>Scarborough</td>\n",
       "      <td>Guildwood, Morningside, West Hill</td>\n",
       "    </tr>\n",
       "    <tr>\n",
       "      <th>M1G</th>\n",
       "      <td>Scarborough</td>\n",
       "      <td>Woburn</td>\n",
       "    </tr>\n",
       "    <tr>\n",
       "      <th>M1H</th>\n",
       "      <td>Scarborough</td>\n",
       "      <td>Cedarbrae</td>\n",
       "    </tr>\n",
       "  </tbody>\n",
       "</table>\n",
       "</div>"
      ],
      "text/plain": [
       "              Borough                           Neighbourhood\n",
       "Postcode                                                     \n",
       "M1B       Scarborough                          Rouge, Malvern\n",
       "M1C       Scarborough  Highland Creek, Rouge Hill, Port Union\n",
       "M1E       Scarborough       Guildwood, Morningside, West Hill\n",
       "M1G       Scarborough                                  Woburn\n",
       "M1H       Scarborough                               Cedarbrae"
      ]
     },
     "execution_count": 18,
     "metadata": {},
     "output_type": "execute_result"
    }
   ],
   "source": [
    "pdata.head()"
   ]
  },
  {
   "cell_type": "code",
   "execution_count": 19,
   "metadata": {},
   "outputs": [
    {
     "data": {
      "text/plain": [
       "Index(['Borough', 'Neighbourhood'], dtype='object')"
      ]
     },
     "execution_count": 19,
     "metadata": {},
     "output_type": "execute_result"
    }
   ],
   "source": [
    "pdata.columns"
   ]
  },
  {
   "cell_type": "code",
   "execution_count": 12,
   "metadata": {},
   "outputs": [],
   "source": [
    "pdata.reset_index(level=0, inplace=True)"
   ]
  },
  {
   "cell_type": "code",
   "execution_count": 15,
   "metadata": {},
   "outputs": [
    {
     "data": {
      "text/html": [
       "<div>\n",
       "<style scoped>\n",
       "    .dataframe tbody tr th:only-of-type {\n",
       "        vertical-align: middle;\n",
       "    }\n",
       "\n",
       "    .dataframe tbody tr th {\n",
       "        vertical-align: top;\n",
       "    }\n",
       "\n",
       "    .dataframe thead th {\n",
       "        text-align: right;\n",
       "    }\n",
       "</style>\n",
       "<table border=\"1\" class=\"dataframe\">\n",
       "  <thead>\n",
       "    <tr style=\"text-align: right;\">\n",
       "      <th></th>\n",
       "      <th>Postcode</th>\n",
       "      <th>Borough</th>\n",
       "      <th>Neighbourhood</th>\n",
       "    </tr>\n",
       "  </thead>\n",
       "  <tbody>\n",
       "    <tr>\n",
       "      <th>0</th>\n",
       "      <td>M1B</td>\n",
       "      <td>Scarborough</td>\n",
       "      <td>Rouge, Malvern</td>\n",
       "    </tr>\n",
       "    <tr>\n",
       "      <th>1</th>\n",
       "      <td>M1C</td>\n",
       "      <td>Scarborough</td>\n",
       "      <td>Highland Creek, Rouge Hill, Port Union</td>\n",
       "    </tr>\n",
       "    <tr>\n",
       "      <th>2</th>\n",
       "      <td>M1E</td>\n",
       "      <td>Scarborough</td>\n",
       "      <td>Guildwood, Morningside, West Hill</td>\n",
       "    </tr>\n",
       "    <tr>\n",
       "      <th>3</th>\n",
       "      <td>M1G</td>\n",
       "      <td>Scarborough</td>\n",
       "      <td>Woburn</td>\n",
       "    </tr>\n",
       "    <tr>\n",
       "      <th>4</th>\n",
       "      <td>M1H</td>\n",
       "      <td>Scarborough</td>\n",
       "      <td>Cedarbrae</td>\n",
       "    </tr>\n",
       "    <tr>\n",
       "      <th>5</th>\n",
       "      <td>M1J</td>\n",
       "      <td>Scarborough</td>\n",
       "      <td>Scarborough Village</td>\n",
       "    </tr>\n",
       "    <tr>\n",
       "      <th>6</th>\n",
       "      <td>M1K</td>\n",
       "      <td>Scarborough</td>\n",
       "      <td>East Birchmount Park, Ionview, Kennedy Park</td>\n",
       "    </tr>\n",
       "    <tr>\n",
       "      <th>7</th>\n",
       "      <td>M1L</td>\n",
       "      <td>Scarborough</td>\n",
       "      <td>Clairlea, Golden Mile, Oakridge</td>\n",
       "    </tr>\n",
       "    <tr>\n",
       "      <th>8</th>\n",
       "      <td>M1M</td>\n",
       "      <td>Scarborough</td>\n",
       "      <td>Cliffcrest, Cliffside, Scarborough Village West</td>\n",
       "    </tr>\n",
       "    <tr>\n",
       "      <th>9</th>\n",
       "      <td>M1N</td>\n",
       "      <td>Scarborough</td>\n",
       "      <td>Birch Cliff, Cliffside West</td>\n",
       "    </tr>\n",
       "    <tr>\n",
       "      <th>10</th>\n",
       "      <td>M1P</td>\n",
       "      <td>Scarborough</td>\n",
       "      <td>Dorset Park, Scarborough Town Centre, Wexford ...</td>\n",
       "    </tr>\n",
       "    <tr>\n",
       "      <th>11</th>\n",
       "      <td>M1R</td>\n",
       "      <td>Scarborough</td>\n",
       "      <td>Maryvale, Wexford</td>\n",
       "    </tr>\n",
       "    <tr>\n",
       "      <th>12</th>\n",
       "      <td>M1S</td>\n",
       "      <td>Scarborough</td>\n",
       "      <td>Agincourt</td>\n",
       "    </tr>\n",
       "    <tr>\n",
       "      <th>13</th>\n",
       "      <td>M1T</td>\n",
       "      <td>Scarborough</td>\n",
       "      <td>Clarks Corners, Sullivan, Tam O'Shanter</td>\n",
       "    </tr>\n",
       "    <tr>\n",
       "      <th>14</th>\n",
       "      <td>M1V</td>\n",
       "      <td>Scarborough</td>\n",
       "      <td>Agincourt North, L'Amoreaux East, Milliken, St...</td>\n",
       "    </tr>\n",
       "    <tr>\n",
       "      <th>15</th>\n",
       "      <td>M1W</td>\n",
       "      <td>Scarborough</td>\n",
       "      <td>L'Amoreaux West, Steeles West</td>\n",
       "    </tr>\n",
       "    <tr>\n",
       "      <th>16</th>\n",
       "      <td>M1X</td>\n",
       "      <td>Scarborough</td>\n",
       "      <td>Upper Rouge</td>\n",
       "    </tr>\n",
       "    <tr>\n",
       "      <th>17</th>\n",
       "      <td>M2H</td>\n",
       "      <td>North York</td>\n",
       "      <td>Hillcrest Village</td>\n",
       "    </tr>\n",
       "    <tr>\n",
       "      <th>18</th>\n",
       "      <td>M2J</td>\n",
       "      <td>North York</td>\n",
       "      <td>Fairview, Henry Farm, Oriole</td>\n",
       "    </tr>\n",
       "    <tr>\n",
       "      <th>19</th>\n",
       "      <td>M2K</td>\n",
       "      <td>North York</td>\n",
       "      <td>Bayview Village</td>\n",
       "    </tr>\n",
       "  </tbody>\n",
       "</table>\n",
       "</div>"
      ],
      "text/plain": [
       "   Postcode      Borough                                      Neighbourhood\n",
       "0       M1B  Scarborough                                     Rouge, Malvern\n",
       "1       M1C  Scarborough             Highland Creek, Rouge Hill, Port Union\n",
       "2       M1E  Scarborough                  Guildwood, Morningside, West Hill\n",
       "3       M1G  Scarborough                                             Woburn\n",
       "4       M1H  Scarborough                                          Cedarbrae\n",
       "5       M1J  Scarborough                                Scarborough Village\n",
       "6       M1K  Scarborough        East Birchmount Park, Ionview, Kennedy Park\n",
       "7       M1L  Scarborough                    Clairlea, Golden Mile, Oakridge\n",
       "8       M1M  Scarborough    Cliffcrest, Cliffside, Scarborough Village West\n",
       "9       M1N  Scarborough                        Birch Cliff, Cliffside West\n",
       "10      M1P  Scarborough  Dorset Park, Scarborough Town Centre, Wexford ...\n",
       "11      M1R  Scarborough                                  Maryvale, Wexford\n",
       "12      M1S  Scarborough                                          Agincourt\n",
       "13      M1T  Scarborough            Clarks Corners, Sullivan, Tam O'Shanter\n",
       "14      M1V  Scarborough  Agincourt North, L'Amoreaux East, Milliken, St...\n",
       "15      M1W  Scarborough                      L'Amoreaux West, Steeles West\n",
       "16      M1X  Scarborough                                        Upper Rouge\n",
       "17      M2H   North York                                  Hillcrest Village\n",
       "18      M2J   North York                       Fairview, Henry Farm, Oriole\n",
       "19      M2K   North York                                    Bayview Village"
      ]
     },
     "execution_count": 15,
     "metadata": {},
     "output_type": "execute_result"
    }
   ],
   "source": [
    "pdata.head(20)"
   ]
  },
  {
   "cell_type": "code",
   "execution_count": 16,
   "metadata": {},
   "outputs": [],
   "source": [
    "export_csv = pdata.to_csv (r'export_dataframe1.csv', index = None, header=True) "
   ]
  },
  {
   "cell_type": "code",
   "execution_count": null,
   "metadata": {},
   "outputs": [],
   "source": []
  }
 ],
 "metadata": {
  "kernelspec": {
   "display_name": "Python 3",
   "language": "python",
   "name": "python3"
  },
  "language_info": {
   "codemirror_mode": {
    "name": "ipython",
    "version": 3
   },
   "file_extension": ".py",
   "mimetype": "text/x-python",
   "name": "python",
   "nbconvert_exporter": "python",
   "pygments_lexer": "ipython3",
   "version": "3.6.8"
  }
 },
 "nbformat": 4,
 "nbformat_minor": 2
}
